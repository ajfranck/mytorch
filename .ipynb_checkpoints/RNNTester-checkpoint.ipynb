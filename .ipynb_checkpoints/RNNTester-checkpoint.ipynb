{
 "cells": [
  {
   "cell_type": "code",
   "execution_count": null,
   "id": "1245c24c",
   "metadata": {},
   "outputs": [],
   "source": [
    "%load_ext autoreload\n",
    "%autoreload 2\n",
    "\n",
    "import time\n",
    "import numpy as np\n",
    "from torch import nn\n",
    "import torch\n",
    "from d2l import torch as d2l\n",
    "\n",
    "import mytorch\n",
    "from mytorch import nn as mynn\n",
    "from mytorch.nn.activation import Tanh\n",
    "\n",
    "from numpy.linalg import norm as norm"
   ]
  },
  {
   "cell_type": "code",
   "execution_count": null,
   "id": "c68a8783",
   "metadata": {},
   "outputs": [],
   "source": [
    "# problem size\n",
    "batch_size = 128\n",
    "num_inputs = 2\n",
    "num_hiddens = 20\n",
    "num_layers = 1\n",
    "seq_length = 5\n",
    "\n",
    "# pytorch RNN\n",
    "torch_rnn = nn.RNN(num_inputs, num_hiddens, num_layers, bias=False)\n",
    "all_weights = torch_rnn.all_weights[0]\n",
    "Wxh = torch_rnn.weight_ih_l0.data.detach().numpy().T\n",
    "Whh = torch_rnn.weight_hh_l0.data.detach().numpy().T\n",
    "\n",
    "# mytorch RNN\n",
    "my_rnn = mynn.RNN(num_inputs, num_hiddens)\n",
    "my_rnn.Wxh = Wxh\n",
    "my_rnn.Whh = Whh\n",
    "\n",
    "X = np.random.randn(seq_length, batch_size, num_inputs)\n",
    "Y = np.random.randn(seq_length, batch_size, num_hiddens)\n",
    "Xt = torch.tensor(X).float()\n",
    "Yt = torch.tensor(Y).float()"
   ]
  },
  {
   "cell_type": "markdown",
   "id": "a4f32f3d",
   "metadata": {},
   "source": [
    "# Compare `forward()`"
   ]
  },
  {
   "cell_type": "code",
   "execution_count": null,
   "id": "8634e1b3",
   "metadata": {},
   "outputs": [],
   "source": [
    "torch_out, torch_state = torch_rnn(Xt)\n",
    "my_out, my_state = my_rnn.forward(X)\n",
    "\n",
    "print('Difference in outputs:', norm(my_out - torch_out.data.numpy()))\n",
    "print('Difference in states:', norm(my_state - torch_state.data.numpy()))"
   ]
  },
  {
   "cell_type": "markdown",
   "id": "23f8f42e",
   "metadata": {},
   "source": [
    "# Compare `backward()`"
   ]
  },
  {
   "cell_type": "code",
   "execution_count": null,
   "id": "594db728",
   "metadata": {},
   "outputs": [],
   "source": [
    "optimizer = torch.optim.SGD(torch_rnn.parameters(), lr=0.1, momentum=0.0)\n",
    "optimizer.zero_grad()\n",
    "torch_loss_fn = nn.MSELoss()\n",
    "torch_loss = torch_loss_fn(torch_out, Yt)\n",
    "torch_loss.backward(retain_graph=True)\n",
    "torch_dLdWxh = torch_rnn.weight_ih_l0.grad.data.numpy().T\n",
    "torch_dLdWhh = torch_rnn.weight_hh_l0.grad.data.numpy().T\n",
    "\n",
    "my_mse_fn = mynn.MSELoss()\n",
    "my_mse = my_mse_fn.forward(my_out, Y)\n",
    "dLdO = my_mse_fn.backward()\n",
    "my_rnn.backward(dLdO)\n",
    "my_dLdWxh = my_rnn.dLdWxh\n",
    "my_dLdWhh = my_rnn.dLdWhh\n",
    "\n",
    "print('Difference in dLdWxh:', norm(my_dLdWxh - torch_dLdWxh))\n",
    "print('Difference in dLdWhh:', norm(my_dLdWhh - torch_dLdWhh))"
   ]
  }
 ],
 "metadata": {
  "kernelspec": {
   "display_name": "Python 3 (ipykernel)",
   "language": "python",
   "name": "python3"
  },
  "language_info": {
   "codemirror_mode": {
    "name": "ipython",
    "version": 3
   },
   "file_extension": ".py",
   "mimetype": "text/x-python",
   "name": "python",
   "nbconvert_exporter": "python",
   "pygments_lexer": "ipython3",
   "version": "3.10.9"
  }
 },
 "nbformat": 4,
 "nbformat_minor": 5
}
