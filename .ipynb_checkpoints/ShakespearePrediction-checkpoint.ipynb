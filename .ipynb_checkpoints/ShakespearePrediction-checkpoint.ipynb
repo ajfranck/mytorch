{
 "cells": [
  {
   "cell_type": "code",
   "execution_count": null,
   "id": "1db25241",
   "metadata": {},
   "outputs": [],
   "source": [
    "import urllib3\n",
    "import collections\n",
    "import re\n",
    "from torch import nn"
   ]
  },
  {
   "cell_type": "code",
   "execution_count": null,
   "id": "a3b4a6a4",
   "metadata": {},
   "outputs": [],
   "source": [
    "# download and process dataset\n",
    "shakespeare = 'http://www.gutenberg.org/files/100/100-0.txt'\n",
    "http = urllib3.PoolManager()\n",
    "text = http.request('GET', shakespeare).data.decode('utf-8')\n",
    "raw_dataset = ' '.join(re.sub('[^A-Za-z]+', ' ', text).lower().split())\n",
    "idx_to_char = list(set(raw_dataset))\n",
    "char_to_idx = dict([(char, i) for i, char in enumerate(idx_to_char)])\n",
    "vocab_size = len(char_to_idx)\n",
    "corpus_indices = [char_to_idx[char] for char in raw_dataset]\n",
    "sample = corpus_indices[:20]\n",
    "\n",
    "# print some information about the dataset and vocab\n",
    "print('number of characters: ', len(raw_dataset))\n",
    "print(raw_dataset[0:70])\n",
    "print('chars:', ''.join([idx_to_char[idx] for idx in sample]))\n",
    "print('indices:', sample)\n",
    "\n",
    "# create train and test datasets\n",
    "train_indices = corpus_indices[:-100000]\n",
    "test_indices = corpus_indices[-100000:]"
   ]
  }
 ],
 "metadata": {
  "kernelspec": {
   "display_name": "Python 3 (ipykernel)",
   "language": "python",
   "name": "python3"
  },
  "language_info": {
   "codemirror_mode": {
    "name": "ipython",
    "version": 3
   },
   "file_extension": ".py",
   "mimetype": "text/x-python",
   "name": "python",
   "nbconvert_exporter": "python",
   "pygments_lexer": "ipython3",
   "version": "3.10.9"
  }
 },
 "nbformat": 4,
 "nbformat_minor": 5
}
