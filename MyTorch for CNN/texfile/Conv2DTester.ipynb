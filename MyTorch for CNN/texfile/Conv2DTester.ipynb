{
 "cells": [
  {
   "cell_type": "code",
   "execution_count": null,
   "id": "656dcd28",
   "metadata": {},
   "outputs": [],
   "source": [
    "%load_ext autoreload\n",
    "%autoreload 2\n",
    "\n",
    "import time\n",
    "import numpy as np\n",
    "from torch import nn\n",
    "import torch\n",
    "from d2l import torch as d2l\n",
    "\n",
    "import mytorch\n",
    "from mytorch import nn as mynn"
   ]
  },
  {
   "cell_type": "code",
   "execution_count": null,
   "id": "dec6acb1",
   "metadata": {},
   "outputs": [],
   "source": [
    "# problem size\n",
    "batch_size = 128\n",
    "in_channels = 3\n",
    "out_channels = 2\n",
    "h = 32\n",
    "w = 31\n",
    "kernel_size = (5, 5)\n",
    "\n",
    "# pytorch conv2d\n",
    "net = nn.Conv2d(in_channels, out_channels, kernel_size, bias=False)\n",
    "weight = net.weight.data.detach().numpy()\n",
    "\n",
    "# mytorch conv2d\n",
    "my_net = mynn.Conv2d(in_channels, out_channels, kernel_size)\n",
    "my_net.W = weight\n",
    "\n",
    "X = np.random.randn(batch_size, in_channels, h, w)\n",
    "Y = np.random.randn(batch_size, out_channels, h - kernel_size[0] + 1, w - kernel_size[1] + 1)\n",
    "Xt = torch.tensor(X).float()\n",
    "Yt = torch.tensor(Y).float()"
   ]
  },
  {
   "cell_type": "markdown",
   "id": "07c82e02",
   "metadata": {},
   "source": [
    "## Compare `forward()`"
   ]
  },
  {
   "cell_type": "code",
   "execution_count": null,
   "id": "4a44fec5",
   "metadata": {},
   "outputs": [],
   "source": [
    "tic = time.time()\n",
    "torch_out = net(Xt)\n",
    "toc = time.time()\n",
    "torch_time = toc - tic\n",
    "\n",
    "tic = time.time()\n",
    "my_out = my_net.forward(X)\n",
    "toc = time.time()\n",
    "my_time = toc - tic\n",
    "\n",
    "print('Difference:', np.linalg.norm(my_out - torch_out.data.numpy()))\n",
    "print('\\nTorch Time:', torch_time, '\\nMy Time:', my_time)"
   ]
  },
  {
   "cell_type": "markdown",
   "id": "64a732a2",
   "metadata": {},
   "source": [
    "## Compare `backward` and gradients"
   ]
  },
  {
   "cell_type": "code",
   "execution_count": null,
   "id": "df3fefd7",
   "metadata": {},
   "outputs": [],
   "source": [
    "optimizer = torch.optim.SGD(net.parameters(), lr=0.1, momentum=0.0)\n",
    "optimizer.zero_grad()\n",
    "torch_loss_fn = nn.MSELoss()\n",
    "torch_loss = torch_loss_fn(torch_out, Yt)\n",
    "torch_loss.backward(retain_graph=True)\n",
    "torch_dLdW = net.weight.grad.data\n",
    "\n",
    "my_mse_fn = mynn.MSELoss()\n",
    "my_mse = my_mse_fn.forward(torch_out.detach().numpy(), Yt.detach().numpy())\n",
    "dLdO = my_mse_fn.backward()\n",
    "dLdX = my_net.backward(dLdO)\n",
    "my_dLdW = my_net.dLdW\n",
    "\n",
    "print('Difference in dLdW:', np.linalg.norm(my_dLdW - torch_dLdW.data.numpy()))\n",
    "\n",
    "# differences in dLdX\n",
    "Xt = torch.tensor(X, requires_grad=True).float()\n",
    "Xt.retain_grad()\n",
    "Yt = torch.tensor(Y, requires_grad=True).float()\n",
    "Yt.retain_grad()\n",
    "torch_out = net(Xt)\n",
    "torch_loss = torch_loss_fn(torch_out, Yt)\n",
    "torch_loss.backward(retain_graph=True)\n",
    "torch_dLdX = Xt.grad.data\n",
    "torch_dLdO = Yt.grad.data\n",
    "\n",
    "print('Difference in dLdX:', np.linalg.norm(torch_dLdX - dLdX))"
   ]
  }
 ],
 "metadata": {
  "kernelspec": {
   "display_name": "Python 3 (ipykernel)",
   "language": "python",
   "name": "python3"
  },
  "language_info": {
   "codemirror_mode": {
    "name": "ipython",
    "version": 3
   },
   "file_extension": ".py",
   "mimetype": "text/x-python",
   "name": "python",
   "nbconvert_exporter": "python",
   "pygments_lexer": "ipython3",
   "version": "3.10.9"
  }
 },
 "nbformat": 4,
 "nbformat_minor": 5
}
