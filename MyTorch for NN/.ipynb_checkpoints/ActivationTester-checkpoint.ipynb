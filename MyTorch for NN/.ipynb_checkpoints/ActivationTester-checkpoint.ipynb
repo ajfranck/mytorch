{
 "cells": [
  {
   "cell_type": "code",
   "execution_count": null,
   "id": "a256e98e",
   "metadata": {},
   "outputs": [],
   "source": [
    "%load_ext autoreload\n",
    "%autoreload 2\n",
    "\n",
    "import numpy as np\n",
    "import matplotlib.pyplot as plt\n",
    "from torch import nn\n",
    "import torch\n",
    "from d2l import torch as d2l\n",
    "\n",
    "from mytorch import nn as mynn\n",
    "from mytorch.optim import SGD"
   ]
  },
  {
   "cell_type": "code",
   "execution_count": null,
   "id": "e4b98908",
   "metadata": {},
   "outputs": [],
   "source": [
    "# test activation forward/backward in one dimension\n",
    "fig, ax = plt.subplots(2, 2, figsize=(6, 6))\n",
    "\n",
    "X = np.linspace(-1, 1, 100)\n",
    "act = mynn.Identity()\n",
    "ax[0, 0].plot(X, act.forward(X), label='forward')\n",
    "ax[0, 0].plot(X, act.backward(), label='backward')\n",
    "ax[0, 0].grid()\n",
    "ax[0, 0].set_xlabel('x')\n",
    "ax[0, 0].set_ylabel('Identity')\n",
    "ax[0, 0].legend()\n",
    "\n",
    "act = mynn.ReLU()\n",
    "ax[0, 1].plot(X, act.forward(X), label='forward')\n",
    "ax[0, 1].plot(X, act.backward(), label='backward')\n",
    "ax[0, 1].grid()\n",
    "ax[0, 1].set_xlabel('x')\n",
    "ax[0, 1].set_ylabel('ReLU')\n",
    "ax[0, 1].legend()\n",
    "\n",
    "X = np.linspace(-8, 8, 100)\n",
    "act = mynn.Sigmoid()\n",
    "ax[1, 0].plot(X, act.forward(X), label='forward')\n",
    "ax[1, 0].plot(X, act.backward(), label='backward')\n",
    "ax[1, 0].grid()\n",
    "ax[1, 0].set_xlabel('x')\n",
    "ax[1, 0].set_ylabel('Sigmoid')\n",
    "ax[1, 0].legend()\n",
    "\n",
    "act = mynn.Tanh()\n",
    "ax[1, 1].plot(X, act.forward(X), label='forward')\n",
    "ax[1, 1].plot(X, act.backward(), label='backward')\n",
    "ax[1, 1].grid()\n",
    "ax[1, 1].set_xlabel('x')\n",
    "ax[1, 1].set_ylabel('Tanh')\n",
    "ax[1, 1].legend()\n",
    "\n",
    "fig.tight_layout()"
   ]
  },
  {
   "cell_type": "code",
   "execution_count": null,
   "id": "61566430",
   "metadata": {},
   "outputs": [],
   "source": [
    "# test activation forward/backward in two dimensions\n",
    "fig, ax = plt.subplots(4, 2, figsize=(6, 6))\n",
    "\n",
    "X = np.outer(np.ones(100), np.linspace(-1, 1, 100))\n",
    "act = mynn.Identity()\n",
    "ax[0, 0].imshow(act.forward(X))\n",
    "ax[0, 1].imshow(act.backward())\n",
    "ax[0, 0].set_title('forward')\n",
    "ax[0, 1].set_title('backward')\n",
    "\n",
    "act = mynn.ReLU()\n",
    "ax[1, 0].imshow(act.forward(X))\n",
    "ax[1, 1].imshow(act.backward())\n",
    "ax[1, 0].set_title('forward')\n",
    "ax[1, 1].set_title('backward')\n",
    "\n",
    "X = np.outer(np.ones(100), np.linspace(-8, 8, 100))\n",
    "act = mynn.Sigmoid()\n",
    "ax[2, 0].imshow(act.forward(X))\n",
    "ax[2, 1].imshow(act.backward())\n",
    "ax[2, 0].set_title('forward')\n",
    "ax[2, 1].set_title('backward')\n",
    "\n",
    "act = mynn.Tanh()\n",
    "ax[3, 0].imshow(act.forward(X))\n",
    "ax[3, 1].imshow(act.backward())\n",
    "ax[3, 0].set_title('forward')\n",
    "ax[3, 1].set_title('backward')\n",
    "\n",
    "fig.tight_layout()"
   ]
  },
  {
   "cell_type": "code",
   "execution_count": null,
   "id": "2837b2ab",
   "metadata": {},
   "outputs": [],
   "source": []
  }
 ],
 "metadata": {
  "kernelspec": {
   "display_name": "Python 3 (ipykernel)",
   "language": "python",
   "name": "python3"
  },
  "language_info": {
   "codemirror_mode": {
    "name": "ipython",
    "version": 3
   },
   "file_extension": ".py",
   "mimetype": "text/x-python",
   "name": "python",
   "nbconvert_exporter": "python",
   "pygments_lexer": "ipython3",
   "version": "3.10.9"
  }
 },
 "nbformat": 4,
 "nbformat_minor": 5
}
