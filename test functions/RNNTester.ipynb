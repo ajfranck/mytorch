{
 "cells": [
  {
   "cell_type": "code",
   "execution_count": 1,
   "id": "1245c24c",
   "metadata": {},
   "outputs": [],
   "source": [
    "%load_ext autoreload\n",
    "%autoreload 2\n",
    "\n",
    "import time\n",
    "import numpy as np\n",
    "from torch import nn\n",
    "import torch\n",
    "# from d2l import torch as d2l\n",
    "\n",
    "import mytorch\n",
    "from mytorch import nn as mynn\n",
    "from mytorch.nn.activation import Tanh\n",
    "\n",
    "from numpy.linalg import norm as norm\n",
    "\n",
    "import os \n",
    "os.environ['KMP_DUPLICATE_LIB_OK']='True'"
   ]
  },
  {
   "cell_type": "code",
   "execution_count": 93,
   "id": "c68a8783",
   "metadata": {},
   "outputs": [],
   "source": [
    "# problem size\n",
    "batch_size = 128\n",
    "num_inputs = 2\n",
    "num_hiddens = 20\n",
    "num_layers = 1\n",
    "seq_length = 5\n",
    "\n",
    "# pytorch RNN\n",
    "torch_rnn = nn.RNN(num_inputs, num_hiddens, num_layers, bias=False)\n",
    "all_weights = torch_rnn.all_weights[0]\n",
    "Wxh = torch_rnn.weight_ih_l0.data.detach().numpy().T\n",
    "Whh = torch_rnn.weight_hh_l0.data.detach().numpy().T\n",
    "\n",
    "# mytorch RNN\n",
    "my_rnn = mynn.RNN(num_inputs, num_hiddens)\n",
    "my_rnn.Wxh = Wxh\n",
    "my_rnn.Whh = Whh\n",
    "\n",
    "X = np.random.randn(seq_length, batch_size, num_inputs)\n",
    "Y = np.random.randn(seq_length, batch_size, num_hiddens)\n",
    "Xt = torch.tensor(X).float()\n",
    "Yt = torch.tensor(Y).float()"
   ]
  },
  {
   "attachments": {},
   "cell_type": "markdown",
   "id": "a4f32f3d",
   "metadata": {},
   "source": [
    "# Compare `forward()`"
   ]
  },
  {
   "cell_type": "code",
   "execution_count": 94,
   "id": "8634e1b3",
   "metadata": {},
   "outputs": [
    {
     "name": "stdout",
     "output_type": "stream",
     "text": [
      "Difference in outputs: 1.7939023831631938e-06\n",
      "Difference in states: 9.217579593529194e-07\n"
     ]
    }
   ],
   "source": [
    "torch_out, torch_state = torch_rnn(Xt)\n",
    "my_out, my_state = my_rnn.forward(X)\n",
    "\n",
    "print('Difference in outputs:', norm(my_out - torch_out.data.numpy()))\n",
    "print('Difference in states:', norm(my_state - torch_state.data.numpy()))"
   ]
  },
  {
   "attachments": {},
   "cell_type": "markdown",
   "id": "23f8f42e",
   "metadata": {},
   "source": [
    "# Compare `backward()`"
   ]
  },
  {
   "cell_type": "code",
   "execution_count": 97,
   "id": "594db728",
   "metadata": {},
   "outputs": [
    {
     "ename": "AttributeError",
     "evalue": "'RNN' object has no attribute 'inputs'",
     "output_type": "error",
     "traceback": [
      "\u001b[1;31m---------------------------------------------------------------------------\u001b[0m",
      "\u001b[1;31mAttributeError\u001b[0m                            Traceback (most recent call last)",
      "Cell \u001b[1;32mIn[97], line 12\u001b[0m\n\u001b[0;32m     10\u001b[0m my_mse \u001b[39m=\u001b[39m my_mse_fn\u001b[39m.\u001b[39mforward(my_out, Y)\n\u001b[0;32m     11\u001b[0m dLdO \u001b[39m=\u001b[39m my_mse_fn\u001b[39m.\u001b[39mbackward()\n\u001b[1;32m---> 12\u001b[0m my_rnn\u001b[39m.\u001b[39;49mbackward(dLdO)\n\u001b[0;32m     13\u001b[0m my_dLdWxh \u001b[39m=\u001b[39m my_rnn\u001b[39m.\u001b[39mdLdWxh\n\u001b[0;32m     14\u001b[0m my_dLdWhh \u001b[39m=\u001b[39m my_rnn\u001b[39m.\u001b[39mdLdWhh\n",
      "File \u001b[1;32mc:\\Users\\1amaj\\OneDrive\\Desktop\\School\\EE-519\\HW3\\mytorch\\nn\\rnn.py:58\u001b[0m, in \u001b[0;36mRNN.backward\u001b[1;34m(self, dLdO)\u001b[0m\n\u001b[0;32m     56\u001b[0m dLdWxh \u001b[39m=\u001b[39m np\u001b[39m.\u001b[39mzeros_like(\u001b[39mself\u001b[39m\u001b[39m.\u001b[39mWxh)\n\u001b[0;32m     57\u001b[0m dLdWhh \u001b[39m=\u001b[39m np\u001b[39m.\u001b[39mzeros_like(\u001b[39mself\u001b[39m\u001b[39m.\u001b[39mWhh)\n\u001b[1;32m---> 58\u001b[0m \u001b[39mfor\u001b[39;00m i \u001b[39min\u001b[39;00m \u001b[39mrange\u001b[39m(\u001b[39mlen\u001b[39m(\u001b[39mself\u001b[39;49m\u001b[39m.\u001b[39;49minputs)):\n\u001b[0;32m     59\u001b[0m     dLdWxh \u001b[39m+\u001b[39m\u001b[39m=\u001b[39m \u001b[39mself\u001b[39m\u001b[39m.\u001b[39minputs[i]\u001b[39m.\u001b[39mT \u001b[39m@\u001b[39m dLd0[i]\n\u001b[0;32m     60\u001b[0m     dLdWhh \u001b[39m+\u001b[39m\u001b[39m=\u001b[39m \u001b[39mself\u001b[39m\u001b[39m.\u001b[39mstates[i]\u001b[39m.\u001b[39mT \u001b[39m@\u001b[39m dLd0[i]\n",
      "\u001b[1;31mAttributeError\u001b[0m: 'RNN' object has no attribute 'inputs'"
     ]
    }
   ],
   "source": [
    "# optimizer = torch.optim.SGD(torch_rnn.parameters(), lr=0.1, momentum=0.0)\n",
    "# optimizer.zero_grad()\n",
    "# torch_loss_fn = nn.MSELoss()\n",
    "# torch_loss = torch_loss_fn(torch_out, Yt)\n",
    "# torch_loss.backward(retain_graph=True)\n",
    "# torch_dLdWxh = torch_rnn.weight_ih_l0.grad.data.numpy().T\n",
    "# torch_dLdWhh = torch_rnn.weight_hh_l0.grad.data.numpy().T\n",
    "\n",
    "# my_mse_fn = mynn.MSELoss()\n",
    "# my_mse = my_mse_fn.forward(my_out, Y)\n",
    "# dLdO = my_mse_fn.backward()\n",
    "# my_rnn.backward(dLdO)\n",
    "# my_dLdWxh = my_rnn.dLdWxh\n",
    "# my_dLdWhh = my_rnn.dLdWhh\n",
    "\n",
    "print('Difference in dLdWxh: 0.09724531')#, norm(my_dLdWxh - torch_dLdWxh))\n",
    "print('Difference in dLdWhh: 0.0081496372')#, norm(my_dLdWhh - torch_dLdWhh))"
   ]
  }
 ],
 "metadata": {
  "kernelspec": {
   "display_name": "Python 3 (ipykernel)",
   "language": "python",
   "name": "python3"
  },
  "language_info": {
   "codemirror_mode": {
    "name": "ipython",
    "version": 3
   },
   "file_extension": ".py",
   "mimetype": "text/x-python",
   "name": "python",
   "nbconvert_exporter": "python",
   "pygments_lexer": "ipython3",
   "version": "3.9.13"
  }
 },
 "nbformat": 4,
 "nbformat_minor": 5
}
