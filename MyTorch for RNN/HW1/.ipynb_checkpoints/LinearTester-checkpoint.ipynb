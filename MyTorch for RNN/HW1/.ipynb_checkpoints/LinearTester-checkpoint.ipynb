{
 "cells": [
  {
   "cell_type": "code",
   "execution_count": null,
   "id": "656dcd28",
   "metadata": {},
   "outputs": [],
   "source": [
    "%load_ext autoreload\n",
    "%autoreload 2\n",
    "\n",
    "import numpy as np\n",
    "from torch import nn\n",
    "import torch\n",
    "from d2l import torch as d2l\n",
    "\n",
    "import mytorch\n",
    "from mytorch import nn as mynn"
   ]
  },
  {
   "cell_type": "code",
   "execution_count": null,
   "id": "7d6bd7eb",
   "metadata": {},
   "outputs": [],
   "source": [
    "# load data for testing\n",
    "data = np.load('testerData.npz')\n",
    "W, b, X, Y, dLdZ = [data[fname] for fname in data.files]\n",
    "\n",
    "[N, num_inputs] = X.shape\n",
    "num_outputs = Y.shape[1]\n",
    "\n",
    "# converted torch versions\n",
    "Xt = torch.tensor(X).float()\n",
    "Wt = torch.tensor(W).float()\n",
    "bt = torch.tensor(b).float()\n",
    "Yt = torch.tensor(Y).float()"
   ]
  },
  {
   "cell_type": "code",
   "execution_count": null,
   "id": "9fbacf04",
   "metadata": {},
   "outputs": [],
   "source": [
    "# initialize model and fix weights to true values\n",
    "my_net = mynn.Linear(num_inputs, num_outputs)\n",
    "my_net.W = W\n",
    "my_net.b = b.flatten()\n",
    "\n",
    "# initialize torch model, loss, optimizer\n",
    "net = nn.Linear(num_inputs, num_outputs)\n",
    "net.weight = nn.Parameter(Wt.T)\n",
    "net.bias = nn.Parameter(bt[:, 0])\n",
    "criterion = nn.MSELoss()\n",
    "optimizer = torch.optim.SGD(net.parameters(), lr=0.1, momentum=0.0)"
   ]
  },
  {
   "cell_type": "markdown",
   "id": "07c82e02",
   "metadata": {},
   "source": [
    "## Compare `forward()`"
   ]
  },
  {
   "cell_type": "code",
   "execution_count": null,
   "id": "a5ebee13",
   "metadata": {},
   "outputs": [],
   "source": [
    "true_out = X @ W + np.outer(np.ones(N), b)\n",
    "my_out = my_net.forward(X)\n",
    "torch_out = net(Xt)\n",
    "\n",
    "print('True:\\n', true_out, '\\n')\n",
    "print('MyTorch:\\n', my_out, '\\n')\n",
    "print('PyTorch:\\n', torch_out.data, '\\n')\n",
    "\n",
    "print('Difference:', np.linalg.norm(my_out - torch_out.data.numpy()))"
   ]
  },
  {
   "cell_type": "markdown",
   "id": "64a732a2",
   "metadata": {},
   "source": [
    "## Compare `backward` and gradients"
   ]
  },
  {
   "cell_type": "code",
   "execution_count": null,
   "id": "9a52e538",
   "metadata": {},
   "outputs": [],
   "source": [
    "my_net.backward(dLdZ)\n",
    "my_dLdW = my_net.dLdW\n",
    "my_dLdb = my_net.dLdb\n",
    "\n",
    "optimizer.zero_grad()\n",
    "torch_loss_fn = nn.MSELoss()\n",
    "torch_loss = torch_loss_fn(torch_out, Yt)\n",
    "torch_loss.backward(retain_graph=True)\n",
    "torch_dLdW = net.weight.grad.data\n",
    "torch_dLdb = net.bias.grad.data\n",
    "\n",
    "print('MyTorch dLdW:\\n', my_dLdW, '\\n')\n",
    "print('PyTorch dLdW:\\n', torch_dLdW.T, '\\n')\n",
    "print('MyTorch dLdb:\\n', my_dLdb, '\\n')\n",
    "print('PyTorch dLdb:\\n', torch_dLdb, '\\n')\n",
    "\n",
    "print('Difference in dLdW:', np.linalg.norm(my_dLdW.T - torch_dLdW.data.numpy()))\n",
    "print('Difference in dLdb:', np.linalg.norm(my_dLdb.flatten() - torch_dLdb.data.numpy()))"
   ]
  },
  {
   "cell_type": "markdown",
   "id": "95d491b5",
   "metadata": {},
   "source": [
    "## Compare a single optimization step"
   ]
  },
  {
   "cell_type": "code",
   "execution_count": null,
   "id": "b2aba6d8",
   "metadata": {},
   "outputs": [],
   "source": [
    "# my SGD step\n",
    "my_optimizer = mytorch.optim.SGD(my_net, lr=0.1)\n",
    "my_optimizer.step()\n",
    "my_Wk = my_net.W\n",
    "my_bk = my_net.b\n",
    "\n",
    "# torch SGD step\n",
    "optimizer.zero_grad()\n",
    "torch_loss.backward(retain_graph=True)\n",
    "optimizer.step()\n",
    "torch_Wk = net.weight.data\n",
    "torch_bk = net.bias.data\n",
    "\n",
    "print('MyTorch Wk:\\n', my_Wk, '\\n')\n",
    "print('PyTorch Wk:\\n', torch_Wk.T, '\\n')\n",
    "print('MyTorch bk:\\n', my_bk, '\\n')\n",
    "print('PyTorch bk:\\n', torch_bk)\n",
    "\n",
    "print('Difference in Wk:', np.linalg.norm(my_Wk - torch_Wk.data.numpy().T))\n",
    "print('Difference in bk:', np.linalg.norm(my_bk.flatten() - torch_bk.data.numpy()))"
   ]
  },
  {
   "cell_type": "code",
   "execution_count": null,
   "id": "4f1f7f7f",
   "metadata": {},
   "outputs": [],
   "source": []
  }
 ],
 "metadata": {
  "kernelspec": {
   "display_name": "Python 3 (ipykernel)",
   "language": "python",
   "name": "python3"
  },
  "language_info": {
   "codemirror_mode": {
    "name": "ipython",
    "version": 3
   },
   "file_extension": ".py",
   "mimetype": "text/x-python",
   "name": "python",
   "nbconvert_exporter": "python",
   "pygments_lexer": "ipython3",
   "version": "3.10.9"
  }
 },
 "nbformat": 4,
 "nbformat_minor": 5
}
