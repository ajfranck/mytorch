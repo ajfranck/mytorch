{
 "cells": [
  {
   "cell_type": "code",
   "execution_count": 1,
   "id": "656dcd28",
   "metadata": {},
   "outputs": [],
   "source": [
    "%load_ext autoreload\n",
    "%autoreload 2\n",
    "\n",
    "import numpy as np\n",
    "from torch import nn\n",
    "import torch\n",
    "from d2l import torch as d2l\n",
    "\n",
    "import mytorch\n",
    "from mytorch import nn as mynn"
   ]
  },
  {
   "cell_type": "code",
   "execution_count": 2,
   "id": "7d6bd7eb",
   "metadata": {},
   "outputs": [],
   "source": [
    "# load data for testing\n",
    "data = np.load('testerData.npz')\n",
    "W, b, X, Y, dLdZ = [data[fname] for fname in data.files]\n",
    "\n",
    "[N, num_inputs] = X.shape\n",
    "num_outputs = Y.shape[1]\n",
    "\n",
    "# converted torch versions\n",
    "Xt = torch.tensor(X).float()\n",
    "Wt = torch.tensor(W).float()\n",
    "bt = torch.tensor(b).float()\n",
    "Yt = torch.tensor(Y).float()"
   ]
  },
  {
   "cell_type": "code",
   "execution_count": 3,
   "id": "9fbacf04",
   "metadata": {},
   "outputs": [],
   "source": [
    "# initialize model and fix weights to true values\n",
    "my_net = mynn.Linear(num_inputs, num_outputs)\n",
    "my_net.W = W\n",
    "my_net.b = b.flatten()\n",
    "\n",
    "# initialize torch model, loss, optimizer\n",
    "net = nn.Linear(num_inputs, num_outputs)\n",
    "net.weight = nn.Parameter(Wt.T)\n",
    "net.bias = nn.Parameter(bt[:, 0])\n",
    "criterion = nn.MSELoss()\n",
    "optimizer = torch.optim.SGD(net.parameters(), lr=0.1, momentum=0.0)"
   ]
  },
  {
   "cell_type": "code",
   "execution_count": 4,
   "id": "a5ebee13",
   "metadata": {},
   "outputs": [],
   "source": [
    "# get gradients for both networks\n",
    "my_out = my_net.forward(X)\n",
    "my_net.backward(dLdZ)\n",
    "my_dLdW = my_net.dLdW\n",
    "my_dLdb = my_net.dLdb\n",
    "\n",
    "torch_out = net(Xt)\n",
    "optimizer.zero_grad()\n",
    "torch_loss_fn = nn.MSELoss()\n",
    "torch_loss = torch_loss_fn(torch_out, Yt)\n",
    "torch_loss.backward(retain_graph=True)"
   ]
  },
  {
   "cell_type": "markdown",
   "id": "95d491b5",
   "metadata": {},
   "source": [
    "## Compare a single optimization step"
   ]
  },
  {
   "cell_type": "code",
   "execution_count": 5,
   "id": "b2aba6d8",
   "metadata": {},
   "outputs": [
    {
     "name": "stdout",
     "output_type": "stream",
     "text": [
      "MyTorch Wk:\n",
      " [[0.00225624 0.65454369 0.22786553 0.20375799 0.41525752]\n",
      " [0.06995093 0.09965917 0.54460619 0.32926168 0.65353759]\n",
      " [0.69258879 0.6152178  0.48305614 0.45607477 0.16900205]\n",
      " [0.05864521 0.35032098 0.24489474 0.8639804  0.83109932]\n",
      " [0.7373715  0.07190249 0.15495887 0.52788239 0.4534458 ]\n",
      " [0.14922424 0.40519783 0.92280482 0.5548514  0.28792973]\n",
      " [0.09215936 0.45045506 0.78606601 0.93621087 0.64919466]\n",
      " [0.28578957 0.23344379 0.51530289 0.79663504 0.54019491]\n",
      " [0.22328781 0.61469977 0.93714608 0.01456096 0.10773379]\n",
      " [0.06160243 0.89891648 0.83156413 0.43773651 0.74866049]] \n",
      "\n",
      "PyTorch Wk:\n",
      " tensor([[0.0023, 0.6545, 0.2279, 0.2038, 0.4153],\n",
      "        [0.0700, 0.0997, 0.5446, 0.3293, 0.6535],\n",
      "        [0.6926, 0.6152, 0.4831, 0.4561, 0.1690],\n",
      "        [0.0586, 0.3503, 0.2449, 0.8640, 0.8311],\n",
      "        [0.7374, 0.0719, 0.1550, 0.5279, 0.4534],\n",
      "        [0.1492, 0.4052, 0.9228, 0.5549, 0.2879],\n",
      "        [0.0922, 0.4505, 0.7861, 0.9362, 0.6492],\n",
      "        [0.2858, 0.2334, 0.5153, 0.7966, 0.5402],\n",
      "        [0.2233, 0.6147, 0.9371, 0.0146, 0.1077],\n",
      "        [0.0616, 0.8989, 0.8316, 0.4377, 0.7487]]) \n",
      "\n",
      "MyTorch bk:\n",
      " [[0.61248868 0.96033306 0.09868591 0.80567634 0.61423769]] \n",
      "\n",
      "PyTorch bk:\n",
      " tensor([0.6125, 0.9603, 0.0987, 0.8057, 0.6142]) \n",
      "\n",
      "Difference in Wk: 1.037580056856067e-07\n",
      "Difference in bk: 2.613949504884645e-08\n"
     ]
    }
   ],
   "source": [
    "# my SGD step\n",
    "my_optimizer = mytorch.optim.SGD(my_net, lr=0.1)\n",
    "my_optimizer.step()\n",
    "my_Wk = my_net.W\n",
    "my_bk = my_net.b\n",
    "\n",
    "# torch SGD step\n",
    "optimizer.zero_grad()\n",
    "torch_loss.backward(retain_graph=True)\n",
    "optimizer.step()\n",
    "torch_Wk = net.weight.data\n",
    "torch_bk = net.bias.data\n",
    "\n",
    "print('MyTorch Wk:\\n', my_Wk, '\\n')\n",
    "print('PyTorch Wk:\\n', torch_Wk.T, '\\n')\n",
    "print('MyTorch bk:\\n', my_bk, '\\n')\n",
    "print('PyTorch bk:\\n', torch_bk, '\\n')\n",
    "\n",
    "print('Difference in Wk:', np.linalg.norm(my_Wk - torch_Wk.data.numpy().T))\n",
    "print('Difference in bk:', np.linalg.norm(my_bk.flatten() - torch_bk.data.numpy()))"
   ]
  }
 ],
 "metadata": {
  "kernelspec": {
   "display_name": "Python 3 (ipykernel)",
   "language": "python",
   "name": "python3"
  },
  "language_info": {
   "codemirror_mode": {
    "name": "ipython",
    "version": 3
   },
   "file_extension": ".py",
   "mimetype": "text/x-python",
   "name": "python",
   "nbconvert_exporter": "python",
   "pygments_lexer": "ipython3",
   "version": "3.9.16"
  }
 },
 "nbformat": 4,
 "nbformat_minor": 5
}
